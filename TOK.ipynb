{
 "cells": [
  {
   "cell_type": "raw",
   "id": "ae545416-202a-48b4-b3de-35e6d40b2224",
   "metadata": {},
   "source": [
    "Построить интерполяционный многочлен Лагранжа вычислить значение в точке и оценить максимально возможную и получившуюся погрешность:\n",
    "2. y=sin(2*pi*x) Использовать x = 0; 1/6; 1/4; 1/3. y(1/5) = ?"
   ]
  },
  {
   "cell_type": "code",
   "execution_count": 1,
   "id": "e5fe77c8-8f73-4bc5-b3e8-cec630ac90ed",
   "metadata": {},
   "outputs": [],
   "source": [
    "import math"
   ]
  },
  {
   "cell_type": "code",
   "execution_count": 70,
   "id": "282eed7f-eaa1-4769-9c01-3a0b7e5ee72f",
   "metadata": {},
   "outputs": [],
   "source": [
    "def f(x):\n",
    "    return round(math.sin(2*math.pi*x),3)"
   ]
  },
  {
   "cell_type": "code",
   "execution_count": 71,
   "id": "19c372b2-c908-4889-837e-0bd4a4bd7894",
   "metadata": {},
   "outputs": [],
   "source": [
    "x0 = 1/5\n",
    "x = [0, 1/6, 1/4, 1/3]\n",
    "y = [f(i) for i in x]\n",
    "xi = [i - x0 for i in x]"
   ]
  },
  {
   "cell_type": "code",
   "execution_count": 72,
   "id": "70db6f49-2679-42ff-87e0-72f1c459fad1",
   "metadata": {},
   "outputs": [],
   "source": [
    "def det(A):\n",
    "    return (A[0][0] * A[1][1]) - (A[0][1] * A[1][0])"
   ]
  },
  {
   "cell_type": "code",
   "execution_count": 73,
   "id": "77410b33-f5f5-4f05-a778-b8d6b41a1bcb",
   "metadata": {},
   "outputs": [],
   "source": [
    "def L(i, x_t):\n",
    "    if (len(i) == 1):\n",
    "        return y[i[0]]\n",
    "    else:\n",
    "        return (1/(x[i[-1]] - x[i[0]])) * det([[L(i[:-1], x_t), x[i[0]] - x_t], \n",
    "                                               [L(i[1:], x_t), x[i[-1]] - x_t]])"
   ]
  },
  {
   "cell_type": "code",
   "execution_count": 75,
   "id": "00d37f1c-aded-459c-9774-2bafcf0460b0",
   "metadata": {},
   "outputs": [
    {
     "data": {
      "text/plain": [
       "0.948464"
      ]
     },
     "execution_count": 75,
     "metadata": {},
     "output_type": "execute_result"
    }
   ],
   "source": [
    "round(L([0, 1, 2, 3], 1/5),6)"
   ]
  },
  {
   "cell_type": "code",
   "execution_count": null,
   "id": "9b106ecb-29cc-41d1-9fe4-fff6dcdadcd5",
   "metadata": {},
   "outputs": [],
   "source": []
  },
  {
   "cell_type": "code",
   "execution_count": null,
   "id": "c58a1f1a-60e8-42ce-b8bf-a1eb53ac32ff",
   "metadata": {},
   "outputs": [],
   "source": []
  },
  {
   "cell_type": "code",
   "execution_count": null,
   "id": "ebfe7758-8c4b-491e-b889-899da391e6a7",
   "metadata": {},
   "outputs": [],
   "source": []
  }
 ],
 "metadata": {
  "kernelspec": {
   "display_name": "Python 3 (ipykernel)",
   "language": "python",
   "name": "python3"
  },
  "language_info": {
   "codemirror_mode": {
    "name": "ipython",
    "version": 3
   },
   "file_extension": ".py",
   "mimetype": "text/x-python",
   "name": "python",
   "nbconvert_exporter": "python",
   "pygments_lexer": "ipython3",
   "version": "3.11.7"
  }
 },
 "nbformat": 4,
 "nbformat_minor": 5
}
