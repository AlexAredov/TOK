{
 "cells": [
  {
   "cell_type": "code",
   "execution_count": 2,
   "id": "55dd95fc-d038-4a36-952b-9c9e6190fded",
   "metadata": {},
   "outputs": [],
   "source": [
    "import numpy as np\n",
    "import math\n",
    "import matplotlib.pyplot as plt"
   ]
  },
  {
   "cell_type": "code",
   "execution_count": 60,
   "id": "9764df05-7931-4c4c-ac7a-5f512804cf07",
   "metadata": {},
   "outputs": [],
   "source": [
    "def f(x):\n",
    "    return np.log(x) + 2*x**2 - 6\n",
    "err = 0.001\n",
    "\n",
    "def f_pr(x):\n",
    "    return (1+4*x**2)/x\n",
    "\n",
    "def fi(x):\n",
    "    return np.sqrt((6 - np.log(x))/2)"
   ]
  },
  {
   "cell_type": "code",
   "execution_count": 61,
   "id": "7d43da3c-33f4-43bf-af8c-366ed994b66f",
   "metadata": {},
   "outputs": [
    {
     "name": "stdout",
     "output_type": "stream",
     "text": [
      "1.65771484375\n"
     ]
    }
   ],
   "source": [
    "#метод деления пополам\n",
    "a = 1 #левый край\n",
    "b = 2 #правый край\n",
    "n = round(np.log2((b-a)/err)) #колическтво прогонов (10)\n",
    "for i in range(0, n+1):\n",
    "    c = (a+b)/2\n",
    "    if(f(a)*f(c) < 0):\n",
    "        b = c\n",
    "    else:\n",
    "        a = c\n",
    "print(c)"
   ]
  },
  {
   "cell_type": "code",
   "execution_count": 62,
   "id": "32a8aadf-ec95-4985-be82-ca51f8075131",
   "metadata": {},
   "outputs": [
    {
     "name": "stdout",
     "output_type": "stream",
     "text": [
      "1.6574794403226578\n"
     ]
    }
   ],
   "source": [
    "#метод хорд\n",
    "a = 1\n",
    "b = 2\n",
    "res_e = a - (f(a)*(a-b))/(f(a)-f(b))\n",
    "c = 10\n",
    "while res_e > err:\n",
    "    c_o = c\n",
    "    c = a - (f(a)*(a-b))/(f(a)-f(b))\n",
    "    if(f(a)*f(c) < 0):\n",
    "        b = c\n",
    "    else:\n",
    "        a = c\n",
    "    res_e = abs(c_o - c)\n",
    "print(c)"
   ]
  },
  {
   "cell_type": "code",
   "execution_count": 63,
   "id": "5b13bfdd-093f-4ca9-8e76-63c6b3804be3",
   "metadata": {},
   "outputs": [
    {
     "name": "stdout",
     "output_type": "stream",
     "text": [
      "1.6575106530328558\n"
     ]
    }
   ],
   "source": [
    "#метод ньютона\n",
    "x0 = 1\n",
    "res_err = 1\n",
    "while res_err > err:\n",
    "    x = x0 - f(x0)/f_pr(x0)\n",
    "    res_err = abs(x - x0)\n",
    "    x0 = x\n",
    "print(x)"
   ]
  },
  {
   "cell_type": "code",
   "execution_count": 64,
   "id": "5adbc119-49ca-49f0-8d2e-1f1b5b5b14f6",
   "metadata": {},
   "outputs": [
    {
     "name": "stdout",
     "output_type": "stream",
     "text": [
      "1.6574655778117295\n"
     ]
    }
   ],
   "source": [
    "#метод итераций\n",
    "x0 = 1.1\n",
    "res_err = 1\n",
    "while res_err > err:\n",
    "    x = fi(x0)\n",
    "    res_err = abs(x - x0)\n",
    "    x0 = x\n",
    "print(x)"
   ]
  },
  {
   "cell_type": "code",
   "execution_count": null,
   "id": "25503009-ca1e-426c-bbfa-7b7ff4a82677",
   "metadata": {},
   "outputs": [],
   "source": []
  },
  {
   "cell_type": "code",
   "execution_count": null,
   "id": "ecff0cd7-4a98-46aa-9e26-d20d2a737d23",
   "metadata": {},
   "outputs": [],
   "source": []
  }
 ],
 "metadata": {
  "kernelspec": {
   "display_name": "Python 3 (ipykernel)",
   "language": "python",
   "name": "python3"
  },
  "language_info": {
   "codemirror_mode": {
    "name": "ipython",
    "version": 3
   },
   "file_extension": ".py",
   "mimetype": "text/x-python",
   "name": "python",
   "nbconvert_exporter": "python",
   "pygments_lexer": "ipython3",
   "version": "3.11.7"
  }
 },
 "nbformat": 4,
 "nbformat_minor": 5
}
